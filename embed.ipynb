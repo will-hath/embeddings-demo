{
 "cells": [
  {
   "cell_type": "code",
   "execution_count": null,
   "metadata": {},
   "outputs": [],
   "source": [
    "from openai import OpenAI\n",
    "import numpy as np\n",
    "\n",
    "client = OpenAI()\n",
    "\n",
    "\n",
    "def get_embeddings_batch(inputs):\n",
    "    # Call the OpenAI API to get the embeddings for a batch of inputs\n",
    "    response = client.embeddings.create(\n",
    "        input=inputs,\n",
    "        model=\"text-embedding-3-large\"\n",
    "    )\n",
    "\n",
    "    # Extract the embeddings\n",
    "    embeddings = np.array([item.embedding for item in response.data])\n",
    "    return embeddings"
   ]
  }
 ],
 "metadata": {
  "kernelspec": {
   "display_name": ".venv",
   "language": "python",
   "name": "python3"
  },
  "language_info": {
   "name": "python",
   "version": "3.9.6"
  }
 },
 "nbformat": 4,
 "nbformat_minor": 2
}
